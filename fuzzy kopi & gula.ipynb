{
 "cells": [
  {
   "cell_type": "markdown",
   "metadata": {},
   "source": [
    "# RAHMAT FEBRIANSYAH | 09011391722133\n",
    "\n",
    "# PENERAPAN LOGIKA FUZZY PADA PENENTUAN RASA KOPI BERDASARKAN KADAR KOPI DAN GULA\n",
    "\n",
    "\n"
   ]
  },
  {
   "cell_type": "code",
   "execution_count": 1,
   "metadata": {},
   "outputs": [],
   "source": [
    "import numpy as np\n",
    "import skfuzzy as fuzz\n",
    "from skfuzzy import control as ctrl\n",
    "import matplotlib.pyplot as plt"
   ]
  },
  {
   "cell_type": "markdown",
   "metadata": {},
   "source": [
    "Numpy adalah library python yang digunakan untuk keperluan analisis data dan juga digunakan untuk operasi matriks dan vektor.\n",
    "\n",
    "Skfuzzy adalah library python yang digunakan untuk melakukan operasi pada penghitungan Fuzzy\n",
    "\n",
    "Input : Kopi terbagi dalam 3 bagian :\n",
    "- kopi sedikit(0.0 - 2.0 gram)\n",
    "- kopi sedang(1.5 - 3.5 gram)\n",
    "- kopi banyak(3.0 - 5.0 gram)\n",
    "\n",
    "Gula terbagi dalam 3 bagian :\n",
    "- gula sedikit(0.0 - 2.0 gram)\n",
    "- gula sedang(1.5 - 3.5 gram)\n",
    "- gula banyak(3.0 - 5.0 gram)\n",
    "\n",
    "Ouput : Rasa yang dihasilkan terbagi dalam 3 bagian :\n",
    "- pahit(0.0 - 2.0)\n",
    "- sedang(1.5 - 3.5)\n",
    "- manis(3.0 - 5.0)"
   ]
  },
  {
   "cell_type": "code",
   "execution_count": 2,
   "metadata": {},
   "outputs": [],
   "source": [
    "Kopi = ctrl.Antecedent(np.arange(0, 5.0, 0.5), 'Kopi')\n",
    "Kopi_x = np.arange(0, 5.0,0.5)#untuk plot\n",
    "Gula = ctrl.Antecedent(np.arange(0, 5.0, 0.5), 'Gula')\n",
    "Gula_x = np.arange(0, 5.0 ,0.5)#untuk plot"
   ]
  },
  {
   "cell_type": "markdown",
   "metadata": {},
   "source": [
    "# Fuzzyfikasi Kopi\n",
    "\n",
    "Untuk variabel input Kopi, fungsi keanggotaan dibagi menjadi 3 bagian :\n",
    "$$ Kopi $$\n",
    "$$ kopi sedikit = 0.0 gram - 2.0 gram$$\n",
    "$$ kopi sedang = 1.5 gram - 3.5 gram$$\n",
    "$$ kopi banyak = 3.0 gram - 5.0 gram$$"
   ]
  },
  {
   "cell_type": "markdown",
   "metadata": {},
   "source": [
    "dengan fungsi keanggotaan input Kopi\n",
    "\n",
    "\\begin{equation}\n",
    "   kopi['kopi sedikit'] = \\mu kopi sedikit(x)=\\begin{cases}\n",
    "    0, & \\text{$ x\\geq2.0$}.\\\\\n",
    "    (2.0 - x)/(2.0 - 1.5) , & \\text{$1.5 < x < 2.0$}.\\\\\n",
    "    1, & \\text{$x\\leq 1.5$}.\n",
    "  \\end{cases}\n",
    "  \\\\\n",
    "  Kopi['kopi sedang'] = \\mu kopi sedang(x)=\\begin{cases}\n",
    "     0, & \\text{$1.5 \\geq x$ atau $ x > 3.5$}.\\\\\n",
    "    (x - 1.5)/(2.0 - 1.5) , & \\text{$1.5 < x < 2.0$}.\\\\\n",
    "    (3.5 - x)/(3.5 - 3.0) , & \\text{$3.0 \\leq x \\leq 3.5$}.\\\\\n",
    "    1, & \\text{$2.0 \\leq x < 3.0$}.\\\\\n",
    "  \\end{cases}\n",
    "  \\\\\n",
    "    Kopi['kopi banyak'] = \\mu kopi banyak(x)=\\begin{cases}\n",
    "    0, & \\text{$x\\leq 3.0$}.\\\\\n",
    "    (x - 3.0)/(3.5 - 3.0) , & \\text{$3.0 < x < 3.5$}.\\\\\n",
    "    1, & \\text{$x\\geq 3.5$}.\n",
    "  \\end{cases}\n",
    "\\end{equation}"
   ]
  },
  {
   "cell_type": "markdown",
   "metadata": {},
   "source": [
    "# Fuzzyfikasi Gula\n",
    "\n",
    "Untuk variabel input Gula, fungsi keanggotaan dibagi menjadi 3 bagian :\n",
    "$$ Gula $$\n",
    "$$ Gula sedkit = 0.0 gram - 2.0 gram$$\n",
    "$$ Gula sedang = 1.5 gram - 3.5 gram$$\n",
    "$$ Gula banyak = 3.0 gram - 5.0 gram$$"
   ]
  },
  {
   "cell_type": "markdown",
   "metadata": {},
   "source": [
    "dengan fungsi keanggotaan input Gula\n",
    "\n",
    "\\begin{equation}\n",
    "   Gula['gula sedikit'] = \\mu gula sedikit(y)=\\begin{cases}\n",
    "    0, & \\text{$ y\\geq2.0$}.\\\\\n",
    "    (2.0 - y)/(2.0 - 1.5) , & \\text{$1.5 < y < 2.0$}.\\\\\n",
    "    1, & \\text{$y\\leq 1.5$}.\n",
    "  \\end{cases}\n",
    "  \\\\\n",
    "    Gula['gula sedang'] = \\mu gula sedang(y)=\\begin{cases}\n",
    "    0, & \\text{$1.5 \\geq x$ atau $ y > 3.5$}.\\\\\n",
    "    (y - 1.5)/(2.0 - 1.5) , & \\text{$1.5 < y < 2.0$}.\\\\\n",
    "    (3.5 - y)/(3.5 - 3.0) , & \\text{$3.0 \\leq y \\leq 3.5$}.\\\\\n",
    "    1, & \\text{$2.0 \\leq y < 3.0$}.\\\\\n",
    "  \\end{cases}\n",
    "  \\\\\n",
    "    Gula['gula banyak'] = \\mu gula banyak(y)=\\begin{cases}\n",
    "    0, & \\text{$y\\leq 3.0$}.\\\\\n",
    "    (y - 3.0)/(3.5 - 3.0) , & \\text{$3.0 < y < 3.5$}.\\\\\n",
    "    1, & \\text{$y\\geq 3.5$}.\n",
    "  \\end{cases}\n",
    "\\end{equation}"
   ]
  },
  {
   "cell_type": "code",
   "execution_count": 3,
   "metadata": {},
   "outputs": [],
   "source": [
    "Rasa = ctrl.Consequent(np.arange(0, 5.0, 0.5), 'Rasa')\n",
    "Rasa_x = np.arange(0, 5.0, 0.5)#untuk plot"
   ]
  },
  {
   "cell_type": "markdown",
   "metadata": {},
   "source": [
    "# Fuzzyfikasi Rasa\n",
    "\n",
    "Untuk variabel output Rasa, fungsi keanggotaan dibagi menjadi 3 bagian :\n",
    "$$ Rasa $$\n",
    "$$ pahit = 0.0  - 2.0 $$\n",
    "$$ sedang = 1.5  - 3.5 $$\n",
    "$$ manis = 3.0  - 5.0 $$"
   ]
  },
  {
   "cell_type": "markdown",
   "metadata": {},
   "source": [
    "dengan fungsi keanggotaan output Rasa\n",
    "\n",
    "\\begin{equation}\n",
    "   Rasa['pahit'] = \\mu pahit(x)=\\begin{cases}\n",
    "    0, & \\text{$ z\\geq2$}.\\\\\n",
    "    (2 - z)/(2 - 1.5) , & \\text{$1.5 < z < 2$}.\\\\\n",
    "    1, & \\text{$z\\leq 1.5$}.\n",
    "  \\end{cases}\n",
    "  \\\\\n",
    "  Rasa['sedang'] = \\mu sedang(x)=\\begin{cases}\n",
    "    0, & \\text{$1.5 \\geq z$ atau $ z > 3.5$}.\\\\\n",
    "    (z - 1.5)/(2.0 - 1.5) , & \\text{$1.5 < z < 2.0$}.\\\\\n",
    "    (3.5 - z)/(3.5 - 3.0) , & \\text{$3.0 \\leq z \\leq 3.5$}.\\\\\n",
    "    1, & \\text{$2.0 \\leq z < 3.0$}.\\\\\n",
    "  \\end{cases}\n",
    "  \\\\\n",
    "    Rasa['manis'] = \\mu manis(x)=\\begin{cases}\n",
    "    0, & \\text{$z\\leq 3$}.\\\\\n",
    "    (z - 3)/(3.5 - 3) , & \\text{$3 < z < 3.5$}.\\\\\n",
    "    1, & \\text{$z\\geq 3.5$}.\n",
    "  \\end{cases}\n",
    "\\end{equation}"
   ]
  },
  {
   "cell_type": "code",
   "execution_count": 4,
   "metadata": {},
   "outputs": [],
   "source": [
    "Kopi['kopi sedikit'] = fuzz.trapmf(Kopi.universe, [0, 0, 1.5, 2.0])\n",
    "Kopi['kopi sedang'] = fuzz.trapmf(Kopi.universe, [1.5, 2.0, 3.0, 3.5])\n",
    "Kopi['kopi banyak'] = fuzz.trapmf(Kopi.universe, [3.0, 3.5, 5.0, 5.0])"
   ]
  },
  {
   "cell_type": "markdown",
   "metadata": {},
   "source": [
    "# Nilai rentang input\n",
    "\n",
    "Nilai rentang variabel input Kopi <'kopi sedikit'> adalah dari 0.0 sampai 2.0.\n",
    "Nilai rentang variabel input Kopi <'kopi sedang'> adalah dari 1.5 sampai 3.5.\n",
    "Nilai rentang variabel input Kopi <'kopi banyak'> adalah dari 3.0 sampai 5.0.\n",
    "\n",
    "Bentuk grafik yang digunakan pada variabel input Kopi <'kopi sedikit', 'kopi sedang' & 'kopi banyak'> adalah trapfm (trapesium)."
   ]
  },
  {
   "cell_type": "code",
   "execution_count": 5,
   "metadata": {},
   "outputs": [
    {
     "data": {
      "text/plain": [
       "Text(0.5, 1.0, 'kopi sedikit')"
      ]
     },
     "execution_count": 5,
     "metadata": {},
     "output_type": "execute_result"
    },
    {
     "data": {
      "image/png": "[encoded data removed]",
      "text/plain": [
       "<Figure size 432x432 with 1 Axes>"
      ]
     },
     "metadata": {
      "needs_background": "light"
     },
     "output_type": "display_data"
    }
   ],
   "source": [
    "kopi_sedikit = fuzz.trapmf(Kopi.universe, [0, 0, 1.5, 2.0])\n",
    "fig, (ax0) = plt.subplots(nrows=1,figsize=(6,6))\n",
    "ax0.plot(Kopi_x,kopi_sedikit,'blue')\n",
    "ax0.set_title('kopi sedikit')"
   ]
  },
  {
   "cell_type": "code",
   "execution_count": 6,
   "metadata": {},
   "outputs": [
    {
     "data": {
      "text/plain": [
       "Text(0.5, 1.0, 'kopi sedang')"
      ]
     },
     "execution_count": 6,
     "metadata": {},
     "output_type": "execute_result"
    },
    {
     "data": {
      "image/png": "[encoded data removed]",
      "text/plain": [
       "<Figure size 432x432 with 1 Axes>"
      ]
     },
     "metadata": {
      "needs_background": "light"
     },
     "output_type": "display_data"
    }
   ],
   "source": [
    "kopi_sedang = fuzz.trapmf(Kopi.universe, [1.5, 2.0, 3.0, 3.5])\n",
    "fig, (ax0) = plt.subplots(nrows=1,figsize=(6,6))\n",
    "ax0.plot(Kopi_x,kopi_sedang,'orange')\n",
    "ax0.set_title('kopi sedang')"
   ]
  },
  {
   "cell_type": "code",
   "execution_count": 7,
   "metadata": {},
   "outputs": [
    {
     "data": {
      "text/plain": [
       "Text(0.5, 1.0, 'kopi banyak')"
      ]
     },
     "execution_count": 7,
     "metadata": {},
     "output_type": "execute_result"
    },
    {
     "data": {
      "image/png": "[encoded data removed]",
      "text/plain": [
       "<Figure size 432x432 with 1 Axes>"
      ]
     },
     "metadata": {
      "needs_background": "light"
     },
     "output_type": "display_data"
    }
   ],
   "source": [
    "kopi_banyak = fuzz.trapmf(Kopi.universe, [3.0, 3.5, 5.0, 5.0])\n",
    "fig, (ax0) = plt.subplots(nrows=1,figsize=(6,6))\n",
    "ax0.plot(Kopi_x,kopi_banyak,'green')\n",
    "ax0.set_title('kopi banyak')"
   ]
  },
  {
   "cell_type": "code",
   "execution_count": 8,
   "metadata": {},
   "outputs": [
    {
     "name": "stderr",
     "output_type": "stream",
     "text": [
      "C:\\Users\\User\\Anaconda3\\lib\\site-packages\\skfuzzy\\control\\fuzzyvariable.py:122: UserWarning: Matplotlib is currently using module://ipykernel.pylab.backend_inline, which is a non-GUI backend, so cannot show the figure.\n",
      "  fig.show()\n"
     ]
    },
    {
     "data": {
      "image/png": "[encoded data removed]",
      "text/plain": [
       "<Figure size 432x288 with 1 Axes>"
      ]
     },
     "metadata": {
      "needs_background": "light"
     },
     "output_type": "display_data"
    }
   ],
   "source": [
    "Kopi.view()"
   ]
  },
  {
   "cell_type": "code",
   "execution_count": 9,
   "metadata": {},
   "outputs": [],
   "source": [
    "Gula['gula sedikit'] = fuzz.trapmf(Gula.universe, [0, 0, 1.5, 2.0])\n",
    "Gula['gula sedang'] = fuzz.trapmf(Gula.universe, [1.5, 2.0, 3.0, 3.5])\n",
    "Gula['gula banyak'] = fuzz.trapmf(Gula.universe, [3.0, 3.5, 5.0, 5.0])"
   ]
  },
  {
   "cell_type": "markdown",
   "metadata": {},
   "source": [
    "Nilai rentang variabel input Gula <'gula sedikit'> adalah dari 0.0 sampai 2.0.\n",
    "Nilai rentang variabel input Gula <'gula sedang'> adalah dari 1.5 sampai 3.5.\n",
    "Nilai rentang variabel input Gula <'gula banyak'> adalah dari 3.0 sampai 5.0.\n",
    "\n",
    "Bentuk grafik yang digunakan pada variabel input Gula <'gula sedikit', 'gula sedang' & 'gula banyak'> adalah trapfm (trapesium)."
   ]
  },
  {
   "cell_type": "code",
   "execution_count": 10,
   "metadata": {},
   "outputs": [
    {
     "data": {
      "text/plain": [
       "Text(0.5, 1.0, 'gula sedikit')"
      ]
     },
     "execution_count": 10,
     "metadata": {},
     "output_type": "execute_result"
    },
    {
     "data": {
      "image/png": "[encoded data removed]",
      "text/plain": [
       "<Figure size 432x432 with 1 Axes>"
      ]
     },
     "metadata": {
      "needs_background": "light"
     },
     "output_type": "display_data"
    }
   ],
   "source": [
    "gula_sedikit = fuzz.trapmf(Gula.universe, [0, 0, 1.5, 2.0])\n",
    "fig, (ax0) = plt.subplots(nrows=1,figsize=(6,6))\n",
    "ax0.plot(Kopi_x,gula_sedikit,'blue')\n",
    "ax0.set_title('gula sedikit')"
   ]
  },
  {
   "cell_type": "code",
   "execution_count": 11,
   "metadata": {},
   "outputs": [
    {
     "data": {
      "text/plain": [
       "Text(0.5, 1.0, 'gula sedang')"
      ]
     },
     "execution_count": 11,
     "metadata": {},
     "output_type": "execute_result"
    },
    {
     "data": {
      "image/png": "[encoded data removed]",
      "text/plain": [
       "<Figure size 432x432 with 1 Axes>"
      ]
     },
     "metadata": {
      "needs_background": "light"
     },
     "output_type": "display_data"
    }
   ],
   "source": [
    "gula_sedang = fuzz.trapmf(Gula.universe, [1.5, 2.0, 3.0, 3.5])\n",
    "fig, (ax0) = plt.subplots(nrows=1,figsize=(6,6))\n",
    "ax0.plot(Kopi_x,gula_sedang,'orange')\n",
    "ax0.set_title('gula sedang')"
   ]
  },
  {
   "cell_type": "code",
   "execution_count": 12,
   "metadata": {},
   "outputs": [
    {
     "data": {
      "text/plain": [
       "Text(0.5, 1.0, 'gula banyak')"
      ]
     },
     "execution_count": 12,
     "metadata": {},
     "output_type": "execute_result"
    },
    {
     "data": {
      "image/png": "[encoded data removed]",
      "text/plain": [
       "<Figure size 432x432 with 1 Axes>"
      ]
     },
     "metadata": {
      "needs_background": "light"
     },
     "output_type": "display_data"
    }
   ],
   "source": [
    "gula_banyak = fuzz.trapmf(Gula.universe, [3.0, 3.5, 5.0, 5.0])\n",
    "fig, (ax0) = plt.subplots(nrows=1,figsize=(6,6))\n",
    "ax0.plot(Kopi_x,gula_banyak,'green')\n",
    "ax0.set_title('gula banyak')"
   ]
  },
  {
   "cell_type": "code",
   "execution_count": 13,
   "metadata": {},
   "outputs": [
    {
     "data": {
      "image/png": "[encoded data removed]",
      "text/plain": [
       "<Figure size 432x288 with 1 Axes>"
      ]
     },
     "metadata": {
      "needs_background": "light"
     },
     "output_type": "display_data"
    }
   ],
   "source": [
    "Gula.view()"
   ]
  },
  {
   "cell_type": "code",
   "execution_count": 14,
   "metadata": {},
   "outputs": [],
   "source": [
    "Rasa['pahit'] = fuzz.trapmf(Rasa.universe, [0, 0, 1.5, 2.0])\n",
    "Rasa['sedang'] = fuzz.trapmf(Rasa.universe, [1.5, 2.0, 3.0, 3.5])\n",
    "Rasa['manis'] = fuzz.trapmf(Rasa.universe, [3.0, 3.5, 5.0, 5.0])"
   ]
  },
  {
   "cell_type": "markdown",
   "metadata": {},
   "source": [
    "# Nilai rentang output\n",
    "\n",
    "Nilai rentang variabel output Rasa <'pahit'> adalah dari 0.0 sampai 2.0. Nilai rentang variable output Rasa <'sedang'> adalah dari 1.5 sampai 3.5. Nilai rentang variabel output Rasa <'manis'> adalah dari 3.0 sampai 5.0.\n",
    "Bentuk grafik yang digunakna pada variabel output Rasa <'pahit', 'sedang' & 'manis'> adalah trapfm (trapesium)"
   ]
  },
  {
   "cell_type": "code",
   "execution_count": 15,
   "metadata": {},
   "outputs": [
    {
     "data": {
      "text/plain": [
       "Text(0.5, 1.0, 'pahit')"
      ]
     },
     "execution_count": 15,
     "metadata": {},
     "output_type": "execute_result"
    },
    {
     "data": {
      "image/png": "[encoded data removed]",
      "text/plain": [
       "<Figure size 432x432 with 1 Axes>"
      ]
     },
     "metadata": {
      "needs_background": "light"
     },
     "output_type": "display_data"
    }
   ],
   "source": [
    "pahit = fuzz.trapmf(Rasa.universe, [0, 0, 1.5, 2.0])\n",
    "fig, (ax0) = plt.subplots(nrows=1,figsize=(6,6))\n",
    "ax0.plot(Kopi_x,pahit,'blue')\n",
    "ax0.set_title('pahit')"
   ]
  },
  {
   "cell_type": "code",
   "execution_count": 16,
   "metadata": {},
   "outputs": [
    {
     "data": {
      "text/plain": [
       "Text(0.5, 1.0, 'sedang')"
      ]
     },
     "execution_count": 16,
     "metadata": {},
     "output_type": "execute_result"
    },
    {
     "data": {
      "image/png": "[encoded data removed]",
      "text/plain": [
       "<Figure size 432x432 with 1 Axes>"
      ]
     },
     "metadata": {
      "needs_background": "light"
     },
     "output_type": "display_data"
    }
   ],
   "source": [
    "sedang = fuzz.trapmf(Rasa.universe, [1.5, 2.0, 3.0, 3.5])\n",
    "fig, (ax0) = plt.subplots(nrows=1,figsize=(6,6))\n",
    "ax0.plot(Kopi_x,sedang,'orange')\n",
    "ax0.set_title('sedang')"
   ]
  },
  {
   "cell_type": "code",
   "execution_count": 17,
   "metadata": {},
   "outputs": [
    {
     "data": {
      "text/plain": [
       "Text(0.5, 1.0, 'manis')"
      ]
     },
     "execution_count": 17,
     "metadata": {},
     "output_type": "execute_result"
    },
    {
     "data": {
      "image/png": "[encoded data removed]",
      "text/plain": [
       "<Figure size 432x432 with 1 Axes>"
      ]
     },
     "metadata": {
      "needs_background": "light"
     },
     "output_type": "display_data"
    }
   ],
   "source": [
    "manis = fuzz.trapmf(Rasa.universe, [3.0, 3.5, 5.0, 5.0])\n",
    "fig, (ax0) = plt.subplots(nrows=1,figsize=(6,6))\n",
    "ax0.plot(Kopi_x,manis,'green')\n",
    "ax0.set_title('manis')"
   ]
  },
  {
   "cell_type": "code",
   "execution_count": 18,
   "metadata": {},
   "outputs": [
    {
     "data": {
      "image/png": "[encoded data removed]",
      "text/plain": [
       "<Figure size 432x288 with 1 Axes>"
      ]
     },
     "metadata": {
      "needs_background": "light"
     },
     "output_type": "display_data"
    }
   ],
   "source": [
    "Rasa.view()"
   ]
  },
  {
   "cell_type": "markdown",
   "metadata": {},
   "source": [
    "# Rule base dan Interferensi\n",
    "\n",
    "Pada rule base dan interferensi ini menggunakan aturan 'if,and' 'then' :"
   ]
  },
  {
   "cell_type": "markdown",
   "metadata": {},
   "source": [
    "Berdasarkan Fuzzyfikasi terdapat 9 rule base,yaitu :\n",
    "\n",
    "1. If (kopi sedikit) and (gula sedikit) Then (pahit)\n",
    "2. If (kopi sedang) and (gula sedikit) Then (pahit)\n",
    "3. If (kopi banyak) and (gula sedikit) Then (pahit)\n",
    "4. If (kopi sedikit) and (gula sedang) Then (sedang)\n",
    "5. If (kopi sedang) and (gula sedang) Then (sedang)\n",
    "6. If (kopi banyak) and (gula sedang) Then (pahit)\n",
    "7. If (kopi sedikit) and (gula banyak) Then (manis)\n",
    "8. If (kopi sedang) and (gula banyak) Then (manis)\n",
    "9. If (kopi banyak) and (gula banyak) Then (manis)"
   ]
  },
  {
   "cell_type": "code",
   "execution_count": 19,
   "metadata": {},
   "outputs": [],
   "source": [
    "rule1 = ctrl.Rule(Kopi['kopi sedikit'] & Gula['gula sedikit'], Rasa['pahit'])\n",
    "rule2 = ctrl.Rule(Kopi['kopi sedang'] & Gula['gula sedikit'], Rasa['pahit'])\n",
    "rule3 = ctrl.Rule(Kopi['kopi banyak'] & Gula['gula sedikit'], Rasa['pahit'])\n",
    "\n",
    "rule4 = ctrl.Rule(Kopi['kopi sedikit'] & Gula['gula sedang'], Rasa['sedang'])\n",
    "rule5 = ctrl.Rule(Kopi['kopi sedang'] & Gula['gula sedang'], Rasa['sedang'])\n",
    "rule6 = ctrl.Rule(Kopi['kopi banyak'] & Gula['gula sedang'], Rasa['pahit'])\n",
    "\n",
    "rule7 = ctrl.Rule(Kopi['kopi sedikit'] & Gula['gula banyak'], Rasa['manis'])\n",
    "rule8 = ctrl.Rule(Kopi['kopi sedang'] & Gula['gula banyak'], Rasa['manis'])\n",
    "rule9 = ctrl.Rule(Kopi['kopi banyak'] & Gula['gula banyak'], Rasa['manis'])"
   ]
  },
  {
   "cell_type": "markdown",
   "metadata": {},
   "source": [
    "# Defuzzyfikasi"
   ]
  },
  {
   "cell_type": "code",
   "execution_count": 20,
   "metadata": {},
   "outputs": [],
   "source": [
    "Rasa_ctrl = ctrl.ControlSystem( [rule1, rule2, rule3, rule4, rule5, rule6, rule7, rule8, rule9])\n",
    "\n",
    "\n",
    "Rasaa = ctrl.ControlSystemSimulation(Rasa_ctrl)"
   ]
  },
  {
   "cell_type": "markdown",
   "metadata": {},
   "source": [
    " Masukkan nilai input Kopi dan gula untuk kemudian dihitung hasil output Defuzzyfikasi nya"
   ]
  },
  {
   "cell_type": "code",
   "execution_count": 21,
   "metadata": {},
   "outputs": [],
   "source": [
    "Rasaa.input['Kopi'] = 2.5\n",
    "Rasaa.input['Gula'] = 1.7"
   ]
  },
  {
   "cell_type": "markdown",
   "metadata": {},
   "source": [
    "Penghitungan dan menampilkan hasil output dari Defuzzyfikasi berdasarkan nilai input yang telah dimasukkan"
   ]
  },
  {
   "cell_type": "code",
   "execution_count": 22,
   "metadata": {},
   "outputs": [
    {
     "name": "stdout",
     "output_type": "stream",
     "text": [
      "1.535067437379576\n"
     ]
    }
   ],
   "source": [
    "Rasaa.compute()\n",
    "\n",
    "print(Rasaa.output['Rasa'])"
   ]
  },
  {
   "cell_type": "code",
   "execution_count": 23,
   "metadata": {},
   "outputs": [
    {
     "data": {
      "image/png": "[encoded data removed]",
      "text/plain": [
       "<Figure size 432x288 with 1 Axes>"
      ]
     },
     "metadata": {
      "needs_background": "light"
     },
     "output_type": "display_data"
    }
   ],
   "source": [
    "Rasa.view(sim=Rasaa)"
   ]
  },
  {
   "cell_type": "markdown",
   "metadata": {},
   "source": [
    "# Perhitungan Manual "
   ]
  },
  {
   "cell_type": "markdown",
   "metadata": {},
   "source": [
    "\\begin{equation}\n",
    "    Kopi = 2.5 \\\\\n",
    "    Masukkan\\,nilai\\,Kopi\\,ke\\,dalam\\,masing-masing\\,fungsi\\,keanggotaan\\,Kopi\\\\\n",
    "   kopi['kopi sedikit'] = \\mu kopi sedikit(x)=\\begin{cases}\n",
    "    0, & \\text{$ x\\geq2.0$}.\\\\\n",
    "    (2.0 - x)/(2.0 - 1.5) , & \\text{$1.5 < x < 2.0$}.\\\\\n",
    "    1, & \\text{$x\\leq 1.5$}.\n",
    "  \\end{cases}\n",
    "  \\\\\n",
    "  Kopi['kopi sedang'] = \\mu kopi sedang(x)=\\begin{cases}\n",
    "     0, & \\text{$1.5 \\geq x$ atau $ x > 3.5$}.\\\\\n",
    "    (x - 1.5)/(2.0 - 1.5) , & \\text{$1.5 < x < 2.0$}.\\\\\n",
    "    (3.5 - x)/(3.5 - 3.0) , & \\text{$3.0 \\leq x \\leq 3.5$}.\\\\\n",
    "    1, & \\text{$2.0 \\leq x < 3.0$}.\\\\\n",
    "  \\end{cases}\n",
    "  \\\\\n",
    "    Kopi['kopi banyak'] = \\mu kopi banyak(x)=\\begin{cases}\n",
    "    0, & \\text{$x\\leq 3.0$}.\\\\\n",
    "    (x - 3.0)/(3.5 - 3.0) , & \\text{$3.0 < x < 3.5$}.\\\\\n",
    "    1, & \\text{$x\\geq 3.5$}.\n",
    "  \\end{cases}\n",
    "\\end{equation}"
   ]
  },
  {
   "cell_type": "markdown",
   "metadata": {},
   "source": [
    "\\begin{equation}\n",
    " \\mu kopi sedikit(2.5) = 0 \\\\\n",
    " \\mu kopi sedang(2.5) = 1 \\\\\n",
    " \\mu kopi banyak(2.5) = 0 \\\\\n",
    "\\end{equation}"
   ]
  },
  {
   "cell_type": "markdown",
   "metadata": {},
   "source": [
    "\\begin{equation}\n",
    "    Gula = 1.7 \\\\\n",
    "    Masukkan\\,nilai\\,Gula\\,ke\\,dalam\\,masing-masing\\,fungsi\\,keanggotaan\\,Gula\\\\\n",
    "   Gula['gula sedikit'] = \\mu gula sedikit(y)=\\begin{cases}\n",
    "    0, & \\text{$ y\\geq2.0$}.\\\\\n",
    "    (2.0 - y)/(2.0 - 1.5) , & \\text{$1.5 < y < 2.0$}.\\\\\n",
    "    1, & \\text{$y\\leq 1.5$}.\n",
    "  \\end{cases}\n",
    "  \\\\\n",
    "    Gula['gula sedang'] = \\mu gula sedang(y)=\\begin{cases}\n",
    "    0, & \\text{$1.5 \\geq x$ atau $ y > 3.5$}.\\\\\n",
    "    (y - 1.5)/(2.0 - 1.5) , & \\text{$1.5 < y < 2.0$}.\\\\\n",
    "    (3.5 - y)/(3.5 - 3.0) , & \\text{$3.0 \\leq y \\leq 3.5$}.\\\\\n",
    "    1, & \\text{$2.0 \\leq y < 3.0$}.\\\\\n",
    "  \\end{cases}\n",
    "  \\\\\n",
    "    Gula['gula banyak'] = \\mu gula banyak(y)=\\begin{cases}\n",
    "    0, & \\text{$y\\leq 3.0$}.\\\\\n",
    "    (y - 3.0)/(3.5 - 3.0) , & \\text{$3.0 < y < 3.5$}.\\\\\n",
    "    1, & \\text{$y\\geq 3.5$}.\n",
    "  \\end{cases}\n",
    "\\end{equation}"
   ]
  },
  {
   "cell_type": "markdown",
   "metadata": {},
   "source": [
    "\\begin{equation}\n",
    "    \\mu gula sedikit(1.7)=(2.0−1.7)/(2.0−1.5)\\\\\n",
    "    \\mu gula sedikit(1.7)=(0.3)/(0.5)\\\\\n",
    "    \\mu gula sedikit(1.7)=0.6\\\\\n",
    "    \\mu gula sedang(1.7)=(1.7−1.5)/(2.0−1.5)\\\\\n",
    "    \\mu gula sedang(1.7=(0.2)/(0.5)\\\\\n",
    "    \\mu gula sedang(1.7)=0.4\\\\\n",
    "    \\mu gula banyak(1.7)=0\\\\\n",
    "\\end{equation}"
   ]
  },
  {
   "cell_type": "markdown",
   "metadata": {},
   "source": [
    "Lalu kita cari nilai z untuk setiap aturan dengan menggunakan fungsi MIN karena menggunakan rule AND\n",
    "\n",
    "1 IF Kopi sedikit AND Gula sedikit THEN Rasa pahit\n",
    "\n",
    "$$ \\\\ \\alpha(predikat_1) = \\mu kopisedikit \\cap \\mu gulasedikit $$\n",
    "$$\\alpha(predikat_1)   = min (\\mu kopisedikit[2.5], \\mu gulasedikit[1.7]) $$\n",
    "$$ \\alpha(predikat_1) = min (0; 0.6) $$\n",
    "$$ \\alpha(predikat_1) = 0 $$\n",
    "\n",
    "Lalu lihat himpunan Rasa pahit \n",
    "$$\n",
    " Rasa['pahit'] = \\mu pahit(x)=\\begin{cases}\n",
    "    0, & \\text{$ z\\geq2$}.\\\\\n",
    "    (2 - z)/(2 - 1.5) , & \\text{$1.5 < z < 2$}.\\\\\n",
    "    1, & \\text{$z\\leq 1.5$}.\n",
    "  \\end{cases}\n",
    " $$\n",
    "Maka nilai $ Z_1 = 0 $\n",
    "\n",
    "========================================================================================================================"
   ]
  },
  {
   "cell_type": "markdown",
   "metadata": {},
   "source": [
    "2 IF Kopi sedang AND Gula sedikit THEN Rasa pahit\n",
    "\n",
    "$$ \\\\ \\alpha(predikat_2) = \\mu kopisedang \\cap \\mu gulasedikit $$\n",
    "$$\\alpha(predikat_2)   = min (\\mu kopisedang[2.5], \\mu gulasedikit[1.7]) $$\n",
    "$$ \\alpha(predikat_2) = min (1; 0.6) $$\n",
    "$$ \\alpha(predikat_2) = 0.6 $$\n",
    "\n",
    "Lalu lihat himpunan Rasa pahit\n",
    "$$\n",
    "Rasa['pahit'] = \\mu pahit(x)=\\begin{cases}\n",
    "    0, & \\text{$ z\\geq2$}.\\\\\n",
    "    (2 - z)/(2 - 1.5) , & \\text{$1.5 < z < 2$}.\\\\\n",
    "    1, & \\text{$z\\leq 1.5$}.\n",
    "  \\end{cases}\n",
    "$$\n",
    " $$ (2.0 - z) / (2.0 -1.5) = 0.6 $$\n",
    " $$ (2.0 - z) = 0.6 $$\n",
    " $$ - z = -1.7 $$\n",
    " $$ z = 1.7 $$\n",
    "Maka nilai $ Z_2 = 1.7 $\n",
    "\n",
    "========================================================================================================================"
   ]
  },
  {
   "cell_type": "markdown",
   "metadata": {},
   "source": [
    "3 IF Kopi banyak AND Gula sedikit THEN Rasa pahit\n",
    "\n",
    "$$ \\\\ \\alpha(predikat_2) = \\mu kopibanyak \\cap \\mu gulasedikit $$\n",
    "$$\\alpha(predikat_2)   = min (\\mu kopibanyak[2.5], \\mu gulasedikit[1.7]) $$\n",
    "$$ \\alpha(predikat_2) = min (0; 0.6) $$\n",
    "$$ \\alpha(predikat_2) = 0 $$\n",
    "\n",
    "Lalu lihat himpunan Rasa pahit\n",
    "$$\n",
    "Rasa['pahit'] = \\mu pahit(x)=\\begin{cases}\n",
    "    0, & \\text{$ z\\geq2$}.\\\\\n",
    "    (2 - z)/(2 - 1.5) , & \\text{$1.5 < z < 2$}.\\\\\n",
    "    1, & \\text{$z\\leq 1.5$}.\n",
    "  \\end{cases}\n",
    "$$\n",
    "\n",
    "Maka nilai $ Z_3 = 0 $\n",
    "\n",
    "========================================================================================================================"
   ]
  },
  {
   "cell_type": "markdown",
   "metadata": {},
   "source": [
    "4 IF Kopi sedikit AND Gula sedang THEN Rasa sedang\n",
    "\n",
    "$$ \\\\ \\alpha(predikat_2) = \\mu kopisedikit \\cap \\mu gulasedang $$\n",
    "$$\\alpha(predikat_2)   = min (\\mu kopisedikit[2.5], \\mu gulasedang[1.7]) $$\n",
    "$$ \\alpha(predikat_2) = min (0; 0.4) $$\n",
    "$$ \\alpha(predikat_2) = 0 $$\n",
    "\n",
    "Lalu lihat himpunan Rasa sedang\n",
    "$$\n",
    "  Rasa['sedang'] = \\mu sedang(x)=\\begin{cases}\n",
    "    0, & \\text{$1.5 \\geq z$ atau $ z > 3.5$}.\\\\\n",
    "    (z - 1.5)/(2.0 - 1.5) , & \\text{$1.5 < z < 2.0$}.\\\\\n",
    "    (3.5 - z)/(3.5 - 3.0) , & \\text{$3.0 \\leq z \\leq 3.5$}.\\\\\n",
    "    1, & \\text{$2.0 \\leq z < 3.0$}.\\\\\n",
    "  \\end{cases}\n",
    "$$\n",
    "\n",
    "Maka nilai $ Z_4 = 0 $\n",
    "\n",
    "========================================================================================================================"
   ]
  },
  {
   "cell_type": "markdown",
   "metadata": {},
   "source": [
    "5 IF Kopi sedang AND Gula sedang THEN Rasa sedang\n",
    "\n",
    "$$ \\\\ \\alpha(predikat_2) = \\mu kopisedikit \\cap \\mu gulasedang $$\n",
    "$$\\alpha(predikat_2)   = min (\\mu kopisedikit[2.5], \\mu gulasedang[1.7]) $$\n",
    "$$ \\alpha(predikat_2) = min (1; 0.4) $$\n",
    "$$ \\alpha(predikat_2) = 0.4 $$\n",
    "\n",
    "Lalu lihat himpunan Rasa sedang\n",
    "$$\n",
    "  Rasa['sedang'] = \\mu sedang(x)=\\begin{cases}\n",
    "    0, & \\text{$1.5 \\geq z$ atau $ z > 3.5$}.\\\\\n",
    "    (z - 1.5)/(2.0 - 1.5) , & \\text{$1.5 < z < 2.0$}.\\\\\n",
    "    (3.5 - z)/(3.5 - 3.0) , & \\text{$3.0 \\leq z \\leq 3.5$}.\\\\\n",
    "    1, & \\text{$2.0 \\leq z < 3.0$}.\\\\\n",
    "  \\end{cases}\n",
    "$$\n",
    "Terdapat 2 nilai keanggotaan maka kita uji satu persatu\n",
    " $$(z - 1.5) / (2.0 - 1.5) = 0.4 $$\n",
    " $$ z - 1.5 = 0.4 \\times 0.5 $$\n",
    " $$ z - 1.5 = 0.2 $$\n",
    " $$ z = 1.7 $$\n",
    " \n",
    " $$ (3.5 - z) / (3.5 - 3.0) = 0.4 $$\n",
    " $$ (3.5 - z) = 0.2 $$\n",
    " $$ - z = -3.3 $$\n",
    " $$ z = 3.3 $$\n",
    "Akan diambil nilai terkecil\n",
    "Maka nilai $ Z_5 = 1.7 $\n",
    "\n",
    "========================================================================================================================"
   ]
  },
  {
   "cell_type": "markdown",
   "metadata": {},
   "source": [
    "6 IF Kopi banyak AND Gula sedang THEN Rasa pahit\n",
    "\n",
    "$$ \\\\ \\alpha(predikat_1) = \\mu kopibanyak \\cap \\mu gulasedadng $$\n",
    "$$\\alpha(predikat_1)   = min (\\mu kopibanyak[2.5], \\mu gulasedang[1.7]) $$\n",
    "$$ \\alpha(predikat_1) = min (0; 0.4) $$\n",
    "$$ \\alpha(predikat_1) = 0 $$\n",
    "\n",
    "Lalu lihat himpunan Rasa pahit \n",
    "$$\n",
    " Rasa['pahit'] = \\mu pahit(x)=\\begin{cases}\n",
    "    0, & \\text{$ z\\geq2$}.\\\\\n",
    "    (2 - z)/(2 - 1.5) , & \\text{$1.5 < z < 2$}.\\\\\n",
    "    1, & \\text{$z\\leq 1.5$}.\n",
    "  \\end{cases}\n",
    " $$\n",
    "Maka nilai $ Z_6 = 0 $\n",
    "\n",
    "========================================================================================================================"
   ]
  },
  {
   "cell_type": "markdown",
   "metadata": {},
   "source": [
    "7 IF Kopi sedikit AND Gula banyak THEN Rasa manis\n",
    "\n",
    "$$ \\\\ \\alpha(predikat_1) = \\mu kopisedikit \\cap \\mu gulabanyak $$\n",
    "$$\\alpha(predikat_1)   = min (\\mu kopisedikit[2.5], \\mu gulabanyak[1.7]) $$\n",
    "$$ \\alpha(predikat_1) = min (0; 0) $$\n",
    "$$ \\alpha(predikat_1) = 0 $$\n",
    "\n",
    "Lalu lihat himpunan Rasa pahit \n",
    "$$\n",
    "    Rasa['manis'] = \\mu manis(x)=\\begin{cases}\n",
    "    0, & \\text{$z\\leq 3$}.\\\\\n",
    "    (z - 3)/(3.5 - 3) , & \\text{$3 < z < 3.5$}.\\\\\n",
    "    1, & \\text{$z\\geq 3.5$}.\n",
    " \\end{cases}\n",
    "$$\n",
    "  Maka nilai $ Z_7 = 0 $\n",
    "\n",
    "========================================================================================================================"
   ]
  },
  {
   "cell_type": "markdown",
   "metadata": {},
   "source": [
    "8 IF Kopi sedang AND Gula banyak THEN Rasa manis\n",
    "\n",
    "$$ \\\\ \\alpha(predikat_1) = \\mu kopisedang \\cap \\mu gulabanyak $$\n",
    "$$\\alpha(predikat_1)   = min (\\mu kopisedang[2.5], \\mu gulabanyak[1.7]) $$\n",
    "$$ \\alpha(predikat_1) = min (1; 0) $$\n",
    "$$ \\alpha(predikat_1) = 0 $$\n",
    "\n",
    "Lalu lihat himpunan Rasa pahit \n",
    "$$\n",
    "    Rasa['manis'] = \\mu manis(x)=\\begin{cases}\n",
    "    0, & \\text{$z\\leq 3$}.\\\\\n",
    "    (z - 3)/(3.5 - 3) , & \\text{$3 < z < 3.5$}.\\\\\n",
    "    1, & \\text{$z\\geq 3.5$}.\n",
    " \\end{cases}\n",
    "$$\n",
    "  Maka nilai $ Z_8 = 0 $\n",
    "\n",
    "========================================================================================================================"
   ]
  },
  {
   "cell_type": "markdown",
   "metadata": {},
   "source": [
    "8 IF Kopi banyak AND Gula banyak THEN Rasa manis\n",
    "\n",
    "$$ \\\\ \\alpha(predikat_1) = \\mu kopibanyak \\cap \\mu gulabanyak $$\n",
    "$$\\alpha(predikat_1)   = min (\\mu kopibanyak[2.5], \\mu gulabanyak[1.7]) $$\n",
    "$$ \\alpha(predikat_1) = min (0; 0) $$\n",
    "$$ \\alpha(predikat_1) = 0 $$\n",
    "\n",
    "Lalu lihat himpunan Rasa pahit \n",
    "$$\n",
    "    Rasa['manis'] = \\mu manis(x)=\\begin{cases}\n",
    "    0, & \\text{$z\\leq 3$}.\\\\\n",
    "    (z - 3)/(3.5 - 3) , & \\text{$3 < z < 3.5$}.\\\\\n",
    "    1, & \\text{$z\\geq 3.5$}.\n",
    " \\end{cases}\n",
    "$$\n",
    "  Maka nilai $ Z_9 = 0 $\n",
    "\n",
    "========================================================================================================================"
   ]
  },
  {
   "cell_type": "markdown",
   "metadata": {},
   "source": [
    "Z = $$\\frac{\\alpha predikat_1 \\times Z_1 +\n",
    "\\alpha predikat_2 \\times Z_2 +\n",
    "\\alpha predikat_3 \\times Z_3 +\n",
    "\\alpha predikat_4 \\times Z_4 +\n",
    "\\alpha predikat_5 \\times Z_5 +\n",
    "\\alpha predikat_6 \\times Z_6 +\n",
    "\\alpha predikat_7 \\times Z_7 +\n",
    "\\alpha predikat_8 \\times Z_8 +\n",
    "\\alpha predikat_9 \\times Z_9}\n",
    "{\\alpha predikat_1 + \\alpha predikat_2 +\n",
    "\\alpha predikat_3 + \\alpha predikat_4 +\n",
    "\\alpha predikat_5 + \\alpha predikat_6 +\n",
    "\\alpha predikat_7 + \\alpha predikat_8 +\n",
    "\\alpha predikat_9}$$"
   ]
  },
  {
   "cell_type": "markdown",
   "metadata": {},
   "source": [
    " $$Z = \\frac{0  + 0.6 \\times 1.7 + 0 + 0 + 0.4 \\times 1.7 + 0 + 0 + 0 + 0}{0 + 0.6 + 0 + 0 + 0.4 + 0 + 0 + 0 + 0} $$\n",
    " \n",
    " $$ Z = \\frac{1.02 + 0.68}{1} $$\n",
    " $$ Z = 1.700 \\, $$"
   ]
  },
  {
   "cell_type": "markdown",
   "metadata": {},
   "source": [
    "Hasil output yang dikeluarkan menggunakan code python sebesar (1.535067437379576) sedangkan perhitungan manual sebesar (1.700) .\n",
    "Terdapat perbedaan sebesar (0.164932563)."
   ]
  },
  {
   "cell_type": "markdown",
   "metadata": {},
   "source": [
    "Dari perbandingan hasil menggunakan code python dengan hitung manual terdapat error sebesar 3,2%"
   ]
  },
  {
   "cell_type": "code",
   "execution_count": null,
   "metadata": {},
   "outputs": [],
   "source": []
  }
 ],
 "metadata": {
  "kernelspec": {
   "display_name": "Python 3",
   "language": "python",
   "name": "python3"
  },
  "language_info": {
   "codemirror_mode": {
    "name": "ipython",
    "version": 3
   },
   "file_extension": ".py",
   "mimetype": "text/x-python",
   "name": "python",
   "nbconvert_exporter": "python",
   "pygments_lexer": "ipython3",
   "version": "3.6.9"
  }
 },
 "nbformat": 4,
 "nbformat_minor": 2
}
